{
 "cells": [
  {
   "cell_type": "code",
   "execution_count": 10,
   "source": [
    "import numpy as np\n",
    "import pandas as pd\n",
    "import tensorflow as tf"
   ],
   "outputs": [],
   "metadata": {}
  },
  {
   "cell_type": "code",
   "execution_count": 11,
   "source": [
    "dataset = pd.read_csv('Churn_Modelling.csv')\n",
    "X = dataset.iloc[:, 3:-1].values\n",
    "y = dataset.iloc[:, -1].values"
   ],
   "outputs": [
    {
     "output_type": "stream",
     "name": "stderr",
     "text": [
      "2021-09-27 14:39:24.007 \n",
      "  \u001b[33m\u001b[1mWarning:\u001b[0m to view this Streamlit app on a browser, run it with the following\n",
      "  command:\n",
      "\n",
      "    streamlit run /Users/robertsarno/Documents/Summer_2021 /Udemy/Nerual_Networking/Artifitial-NN/ANN/lib/python3.9/site-packages/ipykernel_launcher.py [ARGUMENTS]\n"
     ]
    }
   ],
   "metadata": {}
  },
  {
   "cell_type": "code",
   "execution_count": 12,
   "source": [
    "from sklearn.preprocessing import LabelEncoder\n",
    "from sklearn.compose import ColumnTransformer\n",
    "from sklearn.preprocessing import OneHotEncoder\n",
    "\n",
    "# Preprocessing Stuff\n",
    "\n",
    "le = LabelEncoder()\n",
    "X[:, 2] = le.fit_transform(X[:, 2])\n",
    "\n",
    "ct = ColumnTransformer(transformers=[('encoder', OneHotEncoder(), [1])], remainder='passthrough')\n",
    "\n",
    "X = np.array(ct.fit_transform(X))\n",
    "print(X)"
   ],
   "outputs": [
    {
     "output_type": "stream",
     "name": "stdout",
     "text": [
      "[[1.0 0.0 0.0 ... 1 1 101348.88]\n",
      " [0.0 0.0 1.0 ... 0 1 112542.58]\n",
      " [1.0 0.0 0.0 ... 1 0 113931.57]\n",
      " ...\n",
      " [1.0 0.0 0.0 ... 0 1 42085.58]\n",
      " [0.0 1.0 0.0 ... 1 0 92888.52]\n",
      " [1.0 0.0 0.0 ... 1 0 38190.78]]\n"
     ]
    }
   ],
   "metadata": {}
  },
  {
   "cell_type": "code",
   "execution_count": 13,
   "source": [
    "from sklearn.model_selection import train_test_split\n",
    "from sklearn.preprocessing import StandardScaler\n",
    "\n",
    "X_train, X_test, y_train, y_test = train_test_split(X, y, test_size=0.3, random_state=0)\n",
    "\n",
    "sc = StandardScaler()\n",
    "X_train = sc.fit_transform(X_train)\n",
    "X_test = sc.transform(X_test)"
   ],
   "outputs": [],
   "metadata": {}
  },
  {
   "cell_type": "code",
   "execution_count": 14,
   "source": [
    "# Build ANN\n",
    "###########\n",
    "###########\n",
    "ann = tf.keras.models.Sequential()\n",
    "ann.add(tf.keras.layers.Dense(units=6, activation='relu'))\n",
    "ann.add(tf.keras.layers.Dense(units=6, activation='relu'))\n",
    "ann.add(tf.keras.layers.Dense(units=1, activation='sigmoid'))\n",
    "\n",
    "ann.compile(optimizer = 'adam', loss = 'binary_crossentropy', metrics = ['accuracy'])"
   ],
   "outputs": [],
   "metadata": {}
  },
  {
   "cell_type": "code",
   "execution_count": 15,
   "source": [
    "# Train ANN\n",
    "ann.fit(X_train, y_train, batch_size = 32, epochs = 100)"
   ],
   "outputs": [
    {
     "output_type": "stream",
     "name": "stdout",
     "text": [
      "Epoch 1/100\n",
      "219/219 [==============================] - 1s 659us/step - loss: 0.5622 - accuracy: 0.7623\n",
      "Epoch 2/100\n",
      "219/219 [==============================] - 0s 648us/step - loss: 0.4718 - accuracy: 0.8081\n",
      "Epoch 3/100\n",
      "219/219 [==============================] - 0s 709us/step - loss: 0.4451 - accuracy: 0.8101\n",
      "Epoch 4/100\n",
      "219/219 [==============================] - 0s 745us/step - loss: 0.4335 - accuracy: 0.8103\n",
      "Epoch 5/100\n",
      "219/219 [==============================] - 0s 765us/step - loss: 0.4267 - accuracy: 0.8114\n",
      "Epoch 6/100\n",
      "219/219 [==============================] - 0s 835us/step - loss: 0.4210 - accuracy: 0.8156\n",
      "Epoch 7/100\n",
      "219/219 [==============================] - 0s 777us/step - loss: 0.4160 - accuracy: 0.8167\n",
      "Epoch 8/100\n",
      "219/219 [==============================] - 0s 722us/step - loss: 0.4113 - accuracy: 0.8197\n",
      "Epoch 9/100\n",
      "219/219 [==============================] - 0s 766us/step - loss: 0.4069 - accuracy: 0.8213\n",
      "Epoch 10/100\n",
      "219/219 [==============================] - 0s 671us/step - loss: 0.4023 - accuracy: 0.8240\n",
      "Epoch 11/100\n",
      "219/219 [==============================] - 0s 693us/step - loss: 0.3975 - accuracy: 0.8286\n",
      "Epoch 12/100\n",
      "219/219 [==============================] - 0s 730us/step - loss: 0.3927 - accuracy: 0.8283\n",
      "Epoch 13/100\n",
      "219/219 [==============================] - 0s 841us/step - loss: 0.3876 - accuracy: 0.8314\n",
      "Epoch 14/100\n",
      "219/219 [==============================] - 0s 682us/step - loss: 0.3831 - accuracy: 0.8351\n",
      "Epoch 15/100\n",
      "219/219 [==============================] - 0s 674us/step - loss: 0.3782 - accuracy: 0.8407\n",
      "Epoch 16/100\n",
      "219/219 [==============================] - 0s 796us/step - loss: 0.3740 - accuracy: 0.8440\n",
      "Epoch 17/100\n",
      "219/219 [==============================] - 0s 876us/step - loss: 0.3698 - accuracy: 0.8447\n",
      "Epoch 18/100\n",
      "219/219 [==============================] - 0s 967us/step - loss: 0.3667 - accuracy: 0.8481\n",
      "Epoch 19/100\n",
      "219/219 [==============================] - 0s 918us/step - loss: 0.3635 - accuracy: 0.8503\n",
      "Epoch 20/100\n",
      "219/219 [==============================] - 0s 1ms/step - loss: 0.3615 - accuracy: 0.8517\n",
      "Epoch 21/100\n",
      "219/219 [==============================] - 0s 928us/step - loss: 0.3594 - accuracy: 0.8534\n",
      "Epoch 22/100\n",
      "219/219 [==============================] - 0s 970us/step - loss: 0.3579 - accuracy: 0.8553\n",
      "Epoch 23/100\n",
      "219/219 [==============================] - 0s 909us/step - loss: 0.3562 - accuracy: 0.8567\n",
      "Epoch 24/100\n",
      "219/219 [==============================] - 0s 1ms/step - loss: 0.3553 - accuracy: 0.8563\n",
      "Epoch 25/100\n",
      "219/219 [==============================] - 0s 991us/step - loss: 0.3544 - accuracy: 0.8593\n",
      "Epoch 26/100\n",
      "219/219 [==============================] - 0s 1ms/step - loss: 0.3531 - accuracy: 0.8580\n",
      "Epoch 27/100\n",
      "219/219 [==============================] - 0s 875us/step - loss: 0.3521 - accuracy: 0.8581\n",
      "Epoch 28/100\n",
      "219/219 [==============================] - 0s 953us/step - loss: 0.3508 - accuracy: 0.8596\n",
      "Epoch 29/100\n",
      "219/219 [==============================] - 0s 1ms/step - loss: 0.3506 - accuracy: 0.8591\n",
      "Epoch 30/100\n",
      "219/219 [==============================] - 0s 1ms/step - loss: 0.3493 - accuracy: 0.8610\n",
      "Epoch 31/100\n",
      "219/219 [==============================] - 0s 961us/step - loss: 0.3488 - accuracy: 0.8614\n",
      "Epoch 32/100\n",
      "219/219 [==============================] - 0s 1ms/step - loss: 0.3483 - accuracy: 0.8607\n",
      "Epoch 33/100\n",
      "219/219 [==============================] - 0s 1ms/step - loss: 0.3482 - accuracy: 0.8614\n",
      "Epoch 34/100\n",
      "219/219 [==============================] - 0s 1ms/step - loss: 0.3470 - accuracy: 0.8617\n",
      "Epoch 35/100\n",
      "219/219 [==============================] - 0s 1ms/step - loss: 0.3461 - accuracy: 0.8623\n",
      "Epoch 36/100\n",
      "219/219 [==============================] - 0s 889us/step - loss: 0.3462 - accuracy: 0.8616\n",
      "Epoch 37/100\n",
      "219/219 [==============================] - 0s 1ms/step - loss: 0.3460 - accuracy: 0.8613\n",
      "Epoch 38/100\n",
      "219/219 [==============================] - 0s 1ms/step - loss: 0.3452 - accuracy: 0.8630\n",
      "Epoch 39/100\n",
      "219/219 [==============================] - 0s 1ms/step - loss: 0.3448 - accuracy: 0.8633\n",
      "Epoch 40/100\n",
      "219/219 [==============================] - 0s 996us/step - loss: 0.3448 - accuracy: 0.8617\n",
      "Epoch 41/100\n",
      "219/219 [==============================] - 0s 987us/step - loss: 0.3442 - accuracy: 0.8619\n",
      "Epoch 42/100\n",
      "219/219 [==============================] - 0s 917us/step - loss: 0.3440 - accuracy: 0.8637\n",
      "Epoch 43/100\n",
      "219/219 [==============================] - 0s 919us/step - loss: 0.3437 - accuracy: 0.8633\n",
      "Epoch 44/100\n",
      "219/219 [==============================] - 0s 822us/step - loss: 0.3434 - accuracy: 0.8649\n",
      "Epoch 45/100\n",
      "219/219 [==============================] - 0s 685us/step - loss: 0.3430 - accuracy: 0.8626\n",
      "Epoch 46/100\n",
      "219/219 [==============================] - 0s 811us/step - loss: 0.3430 - accuracy: 0.8633\n",
      "Epoch 47/100\n",
      "219/219 [==============================] - 0s 977us/step - loss: 0.3423 - accuracy: 0.8636\n",
      "Epoch 48/100\n",
      "219/219 [==============================] - 0s 782us/step - loss: 0.3424 - accuracy: 0.8641\n",
      "Epoch 49/100\n",
      "219/219 [==============================] - 0s 893us/step - loss: 0.3421 - accuracy: 0.8641\n",
      "Epoch 50/100\n",
      "219/219 [==============================] - 0s 1ms/step - loss: 0.3420 - accuracy: 0.8629\n",
      "Epoch 51/100\n",
      "219/219 [==============================] - 0s 916us/step - loss: 0.3419 - accuracy: 0.8641\n",
      "Epoch 52/100\n",
      "219/219 [==============================] - 0s 812us/step - loss: 0.3414 - accuracy: 0.8639\n",
      "Epoch 53/100\n",
      "219/219 [==============================] - 0s 780us/step - loss: 0.3407 - accuracy: 0.8647\n",
      "Epoch 54/100\n",
      "219/219 [==============================] - 0s 796us/step - loss: 0.3413 - accuracy: 0.8640\n",
      "Epoch 55/100\n",
      "219/219 [==============================] - 0s 742us/step - loss: 0.3413 - accuracy: 0.8634\n",
      "Epoch 56/100\n",
      "219/219 [==============================] - 0s 749us/step - loss: 0.3407 - accuracy: 0.8641\n",
      "Epoch 57/100\n",
      "219/219 [==============================] - 0s 784us/step - loss: 0.3405 - accuracy: 0.8650\n",
      "Epoch 58/100\n",
      "219/219 [==============================] - 0s 714us/step - loss: 0.3407 - accuracy: 0.8646\n",
      "Epoch 59/100\n",
      "219/219 [==============================] - 0s 736us/step - loss: 0.3401 - accuracy: 0.8619\n",
      "Epoch 60/100\n",
      "219/219 [==============================] - 0s 755us/step - loss: 0.3401 - accuracy: 0.8647\n",
      "Epoch 61/100\n",
      "219/219 [==============================] - 0s 788us/step - loss: 0.3402 - accuracy: 0.8656\n",
      "Epoch 62/100\n",
      "219/219 [==============================] - 0s 785us/step - loss: 0.3404 - accuracy: 0.8646\n",
      "Epoch 63/100\n",
      "219/219 [==============================] - 0s 752us/step - loss: 0.3397 - accuracy: 0.8653\n",
      "Epoch 64/100\n",
      "219/219 [==============================] - 0s 764us/step - loss: 0.3401 - accuracy: 0.8646\n",
      "Epoch 65/100\n",
      "219/219 [==============================] - 0s 1ms/step - loss: 0.3394 - accuracy: 0.8639\n",
      "Epoch 66/100\n",
      "219/219 [==============================] - 0s 981us/step - loss: 0.3392 - accuracy: 0.8660\n",
      "Epoch 67/100\n",
      "219/219 [==============================] - 0s 767us/step - loss: 0.3392 - accuracy: 0.8639\n",
      "Epoch 68/100\n",
      "219/219 [==============================] - 0s 751us/step - loss: 0.3395 - accuracy: 0.8650\n",
      "Epoch 69/100\n",
      "219/219 [==============================] - 0s 905us/step - loss: 0.3389 - accuracy: 0.8651\n",
      "Epoch 70/100\n",
      "219/219 [==============================] - 0s 764us/step - loss: 0.3388 - accuracy: 0.8639\n",
      "Epoch 71/100\n",
      "219/219 [==============================] - 0s 672us/step - loss: 0.3388 - accuracy: 0.8651\n",
      "Epoch 72/100\n",
      "219/219 [==============================] - 0s 679us/step - loss: 0.3388 - accuracy: 0.8643\n",
      "Epoch 73/100\n",
      "219/219 [==============================] - 0s 913us/step - loss: 0.3387 - accuracy: 0.8650\n",
      "Epoch 74/100\n",
      "219/219 [==============================] - 0s 1ms/step - loss: 0.3384 - accuracy: 0.8639\n",
      "Epoch 75/100\n",
      "219/219 [==============================] - 0s 886us/step - loss: 0.3385 - accuracy: 0.8640\n",
      "Epoch 76/100\n",
      "219/219 [==============================] - 0s 930us/step - loss: 0.3380 - accuracy: 0.8637\n",
      "Epoch 77/100\n",
      "219/219 [==============================] - 0s 811us/step - loss: 0.3378 - accuracy: 0.8626\n",
      "Epoch 78/100\n",
      "219/219 [==============================] - 0s 780us/step - loss: 0.3383 - accuracy: 0.8643\n",
      "Epoch 79/100\n",
      "219/219 [==============================] - 0s 927us/step - loss: 0.3382 - accuracy: 0.8649\n",
      "Epoch 80/100\n",
      "219/219 [==============================] - 0s 751us/step - loss: 0.3379 - accuracy: 0.8641\n",
      "Epoch 81/100\n",
      "219/219 [==============================] - 0s 746us/step - loss: 0.3374 - accuracy: 0.8649\n",
      "Epoch 82/100\n",
      "219/219 [==============================] - 0s 1ms/step - loss: 0.3372 - accuracy: 0.8646\n",
      "Epoch 83/100\n",
      "219/219 [==============================] - 0s 721us/step - loss: 0.3379 - accuracy: 0.8637\n",
      "Epoch 84/100\n",
      "219/219 [==============================] - 0s 664us/step - loss: 0.3370 - accuracy: 0.8654\n",
      "Epoch 85/100\n",
      "219/219 [==============================] - 0s 701us/step - loss: 0.3378 - accuracy: 0.8637\n",
      "Epoch 86/100\n",
      "219/219 [==============================] - 0s 678us/step - loss: 0.3372 - accuracy: 0.8647\n",
      "Epoch 87/100\n",
      "219/219 [==============================] - 0s 740us/step - loss: 0.3376 - accuracy: 0.8644\n",
      "Epoch 88/100\n",
      "219/219 [==============================] - 0s 759us/step - loss: 0.3371 - accuracy: 0.8657\n",
      "Epoch 89/100\n",
      "219/219 [==============================] - 0s 690us/step - loss: 0.3371 - accuracy: 0.8651\n",
      "Epoch 90/100\n",
      "219/219 [==============================] - 0s 636us/step - loss: 0.3373 - accuracy: 0.8640\n",
      "Epoch 91/100\n",
      "219/219 [==============================] - 0s 651us/step - loss: 0.3371 - accuracy: 0.8637\n",
      "Epoch 92/100\n",
      "219/219 [==============================] - 0s 645us/step - loss: 0.3368 - accuracy: 0.8650\n",
      "Epoch 93/100\n",
      "219/219 [==============================] - 0s 671us/step - loss: 0.3370 - accuracy: 0.8649\n",
      "Epoch 94/100\n",
      "219/219 [==============================] - 0s 648us/step - loss: 0.3370 - accuracy: 0.8649\n",
      "Epoch 95/100\n",
      "219/219 [==============================] - 0s 699us/step - loss: 0.3367 - accuracy: 0.8640\n",
      "Epoch 96/100\n",
      "219/219 [==============================] - 0s 656us/step - loss: 0.3363 - accuracy: 0.8649\n",
      "Epoch 97/100\n",
      "219/219 [==============================] - 0s 675us/step - loss: 0.3363 - accuracy: 0.8650\n",
      "Epoch 98/100\n",
      "219/219 [==============================] - 0s 656us/step - loss: 0.3365 - accuracy: 0.8641\n",
      "Epoch 99/100\n",
      "219/219 [==============================] - 0s 656us/step - loss: 0.3368 - accuracy: 0.8626\n",
      "Epoch 100/100\n",
      "219/219 [==============================] - 0s 657us/step - loss: 0.3360 - accuracy: 0.8644\n"
     ]
    },
    {
     "output_type": "execute_result",
     "data": {
      "text/plain": [
       "<keras.callbacks.History at 0x16a82c7c0>"
      ]
     },
     "metadata": {},
     "execution_count": 15
    }
   ],
   "metadata": {}
  },
  {
   "cell_type": "code",
   "execution_count": 16,
   "source": [
    "y_pred = ann.predict(X_test)\n",
    "y_pred = (y_pred > 0.5)\n",
    "\n",
    "print(np.concatenate((y_pred.reshape(len(y_pred),1), y_test.reshape(len(y_test),1)),1))\n"
   ],
   "outputs": [
    {
     "output_type": "stream",
     "name": "stdout",
     "text": [
      "[[0 0]\n",
      " [0 1]\n",
      " [0 0]\n",
      " ...\n",
      " [0 0]\n",
      " [0 0]\n",
      " [1 1]]\n"
     ]
    }
   ],
   "metadata": {}
  },
  {
   "cell_type": "code",
   "execution_count": 17,
   "source": [
    "from sklearn.metrics import confusion_matrix, accuracy_score\n",
    "\n",
    "cm = confusion_matrix(y_test, y_pred)\n",
    "print(cm)\n",
    "accuracy_score(y_test, y_pred)"
   ],
   "outputs": [
    {
     "output_type": "stream",
     "name": "stdout",
     "text": [
      "[[2262  117]\n",
      " [ 306  315]]\n"
     ]
    },
    {
     "output_type": "execute_result",
     "data": {
      "text/plain": [
       "0.859"
      ]
     },
     "metadata": {},
     "execution_count": 17
    }
   ],
   "metadata": {}
  }
 ],
 "metadata": {
  "orig_nbformat": 4,
  "language_info": {
   "name": "python",
   "version": "3.9.7",
   "mimetype": "text/x-python",
   "codemirror_mode": {
    "name": "ipython",
    "version": 3
   },
   "pygments_lexer": "ipython3",
   "nbconvert_exporter": "python",
   "file_extension": ".py"
  },
  "kernelspec": {
   "name": "python3",
   "display_name": "Python 3.9.7 64-bit ('ANN': venv)"
  },
  "interpreter": {
   "hash": "82c5eae18c8ecef9c8e066ee698bc98381f46d195e78e31f39cceabb40002326"
  }
 },
 "nbformat": 4,
 "nbformat_minor": 2
}